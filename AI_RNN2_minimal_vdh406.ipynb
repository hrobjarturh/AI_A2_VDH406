{
  "nbformat": 4,
  "nbformat_minor": 0,
  "metadata": {
    "kernelspec": {
      "display_name": "Python 3",
      "language": "python",
      "name": "python3"
    },
    "language_info": {
      "codemirror_mode": {
        "name": "ipython",
        "version": 3
      },
      "file_extension": ".py",
      "mimetype": "text/x-python",
      "name": "python",
      "nbconvert_exporter": "python",
      "pygments_lexer": "ipython3",
      "version": "3.9.1"
    },
    "colab": {
      "name": "AI_RNN2_minimal_vdh406.ipynb",
      "provenance": [],
      "collapsed_sections": [
        "O8jNdJP6iRJw",
        "PCL9xnt6iRJy",
        "Gh5AZkQcCA8Q",
        "5VLlojBhCHVB",
        "YJGpeX6xynbo",
        "QeEYvMYGyqpb"
      ]
    },
    "widgets": {
      "application/vnd.jupyter.widget-state+json": {
        "963c417640b94c0b822fa116beb7f539": {
          "model_module": "@jupyter-widgets/controls",
          "model_name": "HBoxModel",
          "state": {
            "_view_name": "HBoxView",
            "_dom_classes": [],
            "_model_name": "HBoxModel",
            "_view_module": "@jupyter-widgets/controls",
            "_model_module_version": "1.5.0",
            "_view_count": null,
            "_view_module_version": "1.5.0",
            "box_style": "",
            "layout": "IPY_MODEL_271a62a24f8340f6acb85c805489dc3f",
            "_model_module": "@jupyter-widgets/controls",
            "children": [
              "IPY_MODEL_376de64791ad4a318851bdaddf4d783a",
              "IPY_MODEL_9c188246418341d2bf84ef760ef8fb6a"
            ]
          }
        },
        "271a62a24f8340f6acb85c805489dc3f": {
          "model_module": "@jupyter-widgets/base",
          "model_name": "LayoutModel",
          "state": {
            "_view_name": "LayoutView",
            "grid_template_rows": null,
            "right": null,
            "justify_content": null,
            "_view_module": "@jupyter-widgets/base",
            "overflow": null,
            "_model_module_version": "1.2.0",
            "_view_count": null,
            "flex_flow": null,
            "width": null,
            "min_width": null,
            "border": null,
            "align_items": null,
            "bottom": null,
            "_model_module": "@jupyter-widgets/base",
            "top": null,
            "grid_column": null,
            "overflow_y": null,
            "overflow_x": null,
            "grid_auto_flow": null,
            "grid_area": null,
            "grid_template_columns": null,
            "flex": null,
            "_model_name": "LayoutModel",
            "justify_items": null,
            "grid_row": null,
            "max_height": null,
            "align_content": null,
            "visibility": null,
            "align_self": null,
            "height": null,
            "min_height": null,
            "padding": null,
            "grid_auto_rows": null,
            "grid_gap": null,
            "max_width": null,
            "order": null,
            "_view_module_version": "1.2.0",
            "grid_template_areas": null,
            "object_position": null,
            "object_fit": null,
            "grid_auto_columns": null,
            "margin": null,
            "display": null,
            "left": null
          }
        },
        "376de64791ad4a318851bdaddf4d783a": {
          "model_module": "@jupyter-widgets/controls",
          "model_name": "FloatProgressModel",
          "state": {
            "_view_name": "ProgressView",
            "style": "IPY_MODEL_1ded9a6b745b4f64a8541ed1ea3c4302",
            "_dom_classes": [],
            "description": "Epoch 5/5:   0%",
            "_model_name": "FloatProgressModel",
            "bar_style": "",
            "max": 9925,
            "_view_module": "@jupyter-widgets/controls",
            "_model_module_version": "1.5.0",
            "value": 0,
            "_view_count": null,
            "_view_module_version": "1.5.0",
            "orientation": "horizontal",
            "min": 0,
            "description_tooltip": null,
            "_model_module": "@jupyter-widgets/controls",
            "layout": "IPY_MODEL_596e60d5603c4241bbe150a1704e9de2"
          }
        },
        "9c188246418341d2bf84ef760ef8fb6a": {
          "model_module": "@jupyter-widgets/controls",
          "model_name": "HTMLModel",
          "state": {
            "_view_name": "HTMLView",
            "style": "IPY_MODEL_1d4767de28074bbd89b5892b62acae88",
            "_dom_classes": [],
            "description": "",
            "_model_name": "HTMLModel",
            "placeholder": "​",
            "_view_module": "@jupyter-widgets/controls",
            "_model_module_version": "1.5.0",
            "value": " 0/9925 [00:19&lt;03:46, 43.81it/s, loss: 1.3157]",
            "_view_count": null,
            "_view_module_version": "1.5.0",
            "description_tooltip": null,
            "_model_module": "@jupyter-widgets/controls",
            "layout": "IPY_MODEL_ec0cfb788afd4e35afda5ef5ff5bfcbc"
          }
        },
        "1ded9a6b745b4f64a8541ed1ea3c4302": {
          "model_module": "@jupyter-widgets/controls",
          "model_name": "ProgressStyleModel",
          "state": {
            "_view_name": "StyleView",
            "_model_name": "ProgressStyleModel",
            "description_width": "initial",
            "_view_module": "@jupyter-widgets/base",
            "_model_module_version": "1.5.0",
            "_view_count": null,
            "_view_module_version": "1.2.0",
            "bar_color": null,
            "_model_module": "@jupyter-widgets/controls"
          }
        },
        "596e60d5603c4241bbe150a1704e9de2": {
          "model_module": "@jupyter-widgets/base",
          "model_name": "LayoutModel",
          "state": {
            "_view_name": "LayoutView",
            "grid_template_rows": null,
            "right": null,
            "justify_content": null,
            "_view_module": "@jupyter-widgets/base",
            "overflow": null,
            "_model_module_version": "1.2.0",
            "_view_count": null,
            "flex_flow": null,
            "width": null,
            "min_width": null,
            "border": null,
            "align_items": null,
            "bottom": null,
            "_model_module": "@jupyter-widgets/base",
            "top": null,
            "grid_column": null,
            "overflow_y": null,
            "overflow_x": null,
            "grid_auto_flow": null,
            "grid_area": null,
            "grid_template_columns": null,
            "flex": null,
            "_model_name": "LayoutModel",
            "justify_items": null,
            "grid_row": null,
            "max_height": null,
            "align_content": null,
            "visibility": null,
            "align_self": null,
            "height": null,
            "min_height": null,
            "padding": null,
            "grid_auto_rows": null,
            "grid_gap": null,
            "max_width": null,
            "order": null,
            "_view_module_version": "1.2.0",
            "grid_template_areas": null,
            "object_position": null,
            "object_fit": null,
            "grid_auto_columns": null,
            "margin": null,
            "display": null,
            "left": null
          }
        },
        "1d4767de28074bbd89b5892b62acae88": {
          "model_module": "@jupyter-widgets/controls",
          "model_name": "DescriptionStyleModel",
          "state": {
            "_view_name": "StyleView",
            "_model_name": "DescriptionStyleModel",
            "description_width": "",
            "_view_module": "@jupyter-widgets/base",
            "_model_module_version": "1.5.0",
            "_view_count": null,
            "_view_module_version": "1.2.0",
            "_model_module": "@jupyter-widgets/controls"
          }
        },
        "ec0cfb788afd4e35afda5ef5ff5bfcbc": {
          "model_module": "@jupyter-widgets/base",
          "model_name": "LayoutModel",
          "state": {
            "_view_name": "LayoutView",
            "grid_template_rows": null,
            "right": null,
            "justify_content": null,
            "_view_module": "@jupyter-widgets/base",
            "overflow": null,
            "_model_module_version": "1.2.0",
            "_view_count": null,
            "flex_flow": null,
            "width": null,
            "min_width": null,
            "border": null,
            "align_items": null,
            "bottom": null,
            "_model_module": "@jupyter-widgets/base",
            "top": null,
            "grid_column": null,
            "overflow_y": null,
            "overflow_x": null,
            "grid_auto_flow": null,
            "grid_area": null,
            "grid_template_columns": null,
            "flex": null,
            "_model_name": "LayoutModel",
            "justify_items": null,
            "grid_row": null,
            "max_height": null,
            "align_content": null,
            "visibility": null,
            "align_self": null,
            "height": null,
            "min_height": null,
            "padding": null,
            "grid_auto_rows": null,
            "grid_gap": null,
            "max_width": null,
            "order": null,
            "_view_module_version": "1.2.0",
            "grid_template_areas": null,
            "object_position": null,
            "object_fit": null,
            "grid_auto_columns": null,
            "margin": null,
            "display": null,
            "left": null
          }
        },
        "6ea26f80b31c4dfcbde6b599f4dd5e04": {
          "model_module": "@jupyter-widgets/controls",
          "model_name": "HBoxModel",
          "state": {
            "_view_name": "HBoxView",
            "_dom_classes": [],
            "_model_name": "HBoxModel",
            "_view_module": "@jupyter-widgets/controls",
            "_model_module_version": "1.5.0",
            "_view_count": null,
            "_view_module_version": "1.5.0",
            "box_style": "",
            "layout": "IPY_MODEL_e03e7d8533724152887410752d1c8126",
            "_model_module": "@jupyter-widgets/controls",
            "children": [
              "IPY_MODEL_58fd8d2dc5994b8f93e7e105dd3dc7f2",
              "IPY_MODEL_47c1dde1bbda44cbb338aac67d3fa3b7"
            ]
          }
        },
        "e03e7d8533724152887410752d1c8126": {
          "model_module": "@jupyter-widgets/base",
          "model_name": "LayoutModel",
          "state": {
            "_view_name": "LayoutView",
            "grid_template_rows": null,
            "right": null,
            "justify_content": null,
            "_view_module": "@jupyter-widgets/base",
            "overflow": null,
            "_model_module_version": "1.2.0",
            "_view_count": null,
            "flex_flow": null,
            "width": null,
            "min_width": null,
            "border": null,
            "align_items": null,
            "bottom": null,
            "_model_module": "@jupyter-widgets/base",
            "top": null,
            "grid_column": null,
            "overflow_y": null,
            "overflow_x": null,
            "grid_auto_flow": null,
            "grid_area": null,
            "grid_template_columns": null,
            "flex": null,
            "_model_name": "LayoutModel",
            "justify_items": null,
            "grid_row": null,
            "max_height": null,
            "align_content": null,
            "visibility": null,
            "align_self": null,
            "height": null,
            "min_height": null,
            "padding": null,
            "grid_auto_rows": null,
            "grid_gap": null,
            "max_width": null,
            "order": null,
            "_view_module_version": "1.2.0",
            "grid_template_areas": null,
            "object_position": null,
            "object_fit": null,
            "grid_auto_columns": null,
            "margin": null,
            "display": null,
            "left": null
          }
        },
        "58fd8d2dc5994b8f93e7e105dd3dc7f2": {
          "model_module": "@jupyter-widgets/controls",
          "model_name": "FloatProgressModel",
          "state": {
            "_view_name": "ProgressView",
            "style": "IPY_MODEL_a981c137fafc4fdda3d81282217d4ccb",
            "_dom_classes": [],
            "description": "Epoch 5/5:   0%",
            "_model_name": "FloatProgressModel",
            "bar_style": "",
            "max": 9925,
            "_view_module": "@jupyter-widgets/controls",
            "_model_module_version": "1.5.0",
            "value": 0,
            "_view_count": null,
            "_view_module_version": "1.5.0",
            "orientation": "horizontal",
            "min": 0,
            "description_tooltip": null,
            "_model_module": "@jupyter-widgets/controls",
            "layout": "IPY_MODEL_ff49cd0794034ae9b79f7ea754209d7c"
          }
        },
        "47c1dde1bbda44cbb338aac67d3fa3b7": {
          "model_module": "@jupyter-widgets/controls",
          "model_name": "HTMLModel",
          "state": {
            "_view_name": "HTMLView",
            "style": "IPY_MODEL_536223ecfeba43f7bd1571686e8b2ac6",
            "_dom_classes": [],
            "description": "",
            "_model_name": "HTMLModel",
            "placeholder": "​",
            "_view_module": "@jupyter-widgets/controls",
            "_model_module_version": "1.5.0",
            "value": " 0/9925 [00:16&lt;00:19, 499.45it/s, loss: 2.1592]",
            "_view_count": null,
            "_view_module_version": "1.5.0",
            "description_tooltip": null,
            "_model_module": "@jupyter-widgets/controls",
            "layout": "IPY_MODEL_40e5d0381a8047bb965319428b2d0915"
          }
        },
        "a981c137fafc4fdda3d81282217d4ccb": {
          "model_module": "@jupyter-widgets/controls",
          "model_name": "ProgressStyleModel",
          "state": {
            "_view_name": "StyleView",
            "_model_name": "ProgressStyleModel",
            "description_width": "initial",
            "_view_module": "@jupyter-widgets/base",
            "_model_module_version": "1.5.0",
            "_view_count": null,
            "_view_module_version": "1.2.0",
            "bar_color": null,
            "_model_module": "@jupyter-widgets/controls"
          }
        },
        "ff49cd0794034ae9b79f7ea754209d7c": {
          "model_module": "@jupyter-widgets/base",
          "model_name": "LayoutModel",
          "state": {
            "_view_name": "LayoutView",
            "grid_template_rows": null,
            "right": null,
            "justify_content": null,
            "_view_module": "@jupyter-widgets/base",
            "overflow": null,
            "_model_module_version": "1.2.0",
            "_view_count": null,
            "flex_flow": null,
            "width": null,
            "min_width": null,
            "border": null,
            "align_items": null,
            "bottom": null,
            "_model_module": "@jupyter-widgets/base",
            "top": null,
            "grid_column": null,
            "overflow_y": null,
            "overflow_x": null,
            "grid_auto_flow": null,
            "grid_area": null,
            "grid_template_columns": null,
            "flex": null,
            "_model_name": "LayoutModel",
            "justify_items": null,
            "grid_row": null,
            "max_height": null,
            "align_content": null,
            "visibility": null,
            "align_self": null,
            "height": null,
            "min_height": null,
            "padding": null,
            "grid_auto_rows": null,
            "grid_gap": null,
            "max_width": null,
            "order": null,
            "_view_module_version": "1.2.0",
            "grid_template_areas": null,
            "object_position": null,
            "object_fit": null,
            "grid_auto_columns": null,
            "margin": null,
            "display": null,
            "left": null
          }
        },
        "536223ecfeba43f7bd1571686e8b2ac6": {
          "model_module": "@jupyter-widgets/controls",
          "model_name": "DescriptionStyleModel",
          "state": {
            "_view_name": "StyleView",
            "_model_name": "DescriptionStyleModel",
            "description_width": "",
            "_view_module": "@jupyter-widgets/base",
            "_model_module_version": "1.5.0",
            "_view_count": null,
            "_view_module_version": "1.2.0",
            "_model_module": "@jupyter-widgets/controls"
          }
        },
        "40e5d0381a8047bb965319428b2d0915": {
          "model_module": "@jupyter-widgets/base",
          "model_name": "LayoutModel",
          "state": {
            "_view_name": "LayoutView",
            "grid_template_rows": null,
            "right": null,
            "justify_content": null,
            "_view_module": "@jupyter-widgets/base",
            "overflow": null,
            "_model_module_version": "1.2.0",
            "_view_count": null,
            "flex_flow": null,
            "width": null,
            "min_width": null,
            "border": null,
            "align_items": null,
            "bottom": null,
            "_model_module": "@jupyter-widgets/base",
            "top": null,
            "grid_column": null,
            "overflow_y": null,
            "overflow_x": null,
            "grid_auto_flow": null,
            "grid_area": null,
            "grid_template_columns": null,
            "flex": null,
            "_model_name": "LayoutModel",
            "justify_items": null,
            "grid_row": null,
            "max_height": null,
            "align_content": null,
            "visibility": null,
            "align_self": null,
            "height": null,
            "min_height": null,
            "padding": null,
            "grid_auto_rows": null,
            "grid_gap": null,
            "max_width": null,
            "order": null,
            "_view_module_version": "1.2.0",
            "grid_template_areas": null,
            "object_position": null,
            "object_fit": null,
            "grid_auto_columns": null,
            "margin": null,
            "display": null,
            "left": null
          }
        },
        "fa85f636cdc54119b99510d4cc69a365": {
          "model_module": "@jupyter-widgets/controls",
          "model_name": "HBoxModel",
          "state": {
            "_view_name": "HBoxView",
            "_dom_classes": [],
            "_model_name": "HBoxModel",
            "_view_module": "@jupyter-widgets/controls",
            "_model_module_version": "1.5.0",
            "_view_count": null,
            "_view_module_version": "1.5.0",
            "box_style": "",
            "layout": "IPY_MODEL_c4b552fcdecc46ccbbb880cc18e5dd22",
            "_model_module": "@jupyter-widgets/controls",
            "children": [
              "IPY_MODEL_ea7235cc726143fda526d18cfa7a789e",
              "IPY_MODEL_a54fdde138f2408789d6509d748c3634"
            ]
          }
        },
        "c4b552fcdecc46ccbbb880cc18e5dd22": {
          "model_module": "@jupyter-widgets/base",
          "model_name": "LayoutModel",
          "state": {
            "_view_name": "LayoutView",
            "grid_template_rows": null,
            "right": null,
            "justify_content": null,
            "_view_module": "@jupyter-widgets/base",
            "overflow": null,
            "_model_module_version": "1.2.0",
            "_view_count": null,
            "flex_flow": null,
            "width": null,
            "min_width": null,
            "border": null,
            "align_items": null,
            "bottom": null,
            "_model_module": "@jupyter-widgets/base",
            "top": null,
            "grid_column": null,
            "overflow_y": null,
            "overflow_x": null,
            "grid_auto_flow": null,
            "grid_area": null,
            "grid_template_columns": null,
            "flex": null,
            "_model_name": "LayoutModel",
            "justify_items": null,
            "grid_row": null,
            "max_height": null,
            "align_content": null,
            "visibility": null,
            "align_self": null,
            "height": null,
            "min_height": null,
            "padding": null,
            "grid_auto_rows": null,
            "grid_gap": null,
            "max_width": null,
            "order": null,
            "_view_module_version": "1.2.0",
            "grid_template_areas": null,
            "object_position": null,
            "object_fit": null,
            "grid_auto_columns": null,
            "margin": null,
            "display": null,
            "left": null
          }
        },
        "ea7235cc726143fda526d18cfa7a789e": {
          "model_module": "@jupyter-widgets/controls",
          "model_name": "FloatProgressModel",
          "state": {
            "_view_name": "ProgressView",
            "style": "IPY_MODEL_f2d4293c86ae4292b15ee786cc3f9f09",
            "_dom_classes": [],
            "description": "100%",
            "_model_name": "FloatProgressModel",
            "bar_style": "success",
            "max": 2482,
            "_view_module": "@jupyter-widgets/controls",
            "_model_module_version": "1.5.0",
            "value": 2482,
            "_view_count": null,
            "_view_module_version": "1.5.0",
            "orientation": "horizontal",
            "min": 0,
            "description_tooltip": null,
            "_model_module": "@jupyter-widgets/controls",
            "layout": "IPY_MODEL_1e8eec8f8103426d83eae5ca12e75188"
          }
        },
        "a54fdde138f2408789d6509d748c3634": {
          "model_module": "@jupyter-widgets/controls",
          "model_name": "HTMLModel",
          "state": {
            "_view_name": "HTMLView",
            "style": "IPY_MODEL_ddb8465f92fc47bc837f04643cc38e6e",
            "_dom_classes": [],
            "description": "",
            "_model_name": "HTMLModel",
            "placeholder": "​",
            "_view_module": "@jupyter-widgets/controls",
            "_model_module_version": "1.5.0",
            "value": " 2482/2482 [00:11&lt;00:00, 208.32it/s]",
            "_view_count": null,
            "_view_module_version": "1.5.0",
            "description_tooltip": null,
            "_model_module": "@jupyter-widgets/controls",
            "layout": "IPY_MODEL_0aebd53e076948b7a526a2dd3aa0246e"
          }
        },
        "f2d4293c86ae4292b15ee786cc3f9f09": {
          "model_module": "@jupyter-widgets/controls",
          "model_name": "ProgressStyleModel",
          "state": {
            "_view_name": "StyleView",
            "_model_name": "ProgressStyleModel",
            "description_width": "initial",
            "_view_module": "@jupyter-widgets/base",
            "_model_module_version": "1.5.0",
            "_view_count": null,
            "_view_module_version": "1.2.0",
            "bar_color": null,
            "_model_module": "@jupyter-widgets/controls"
          }
        },
        "1e8eec8f8103426d83eae5ca12e75188": {
          "model_module": "@jupyter-widgets/base",
          "model_name": "LayoutModel",
          "state": {
            "_view_name": "LayoutView",
            "grid_template_rows": null,
            "right": null,
            "justify_content": null,
            "_view_module": "@jupyter-widgets/base",
            "overflow": null,
            "_model_module_version": "1.2.0",
            "_view_count": null,
            "flex_flow": null,
            "width": null,
            "min_width": null,
            "border": null,
            "align_items": null,
            "bottom": null,
            "_model_module": "@jupyter-widgets/base",
            "top": null,
            "grid_column": null,
            "overflow_y": null,
            "overflow_x": null,
            "grid_auto_flow": null,
            "grid_area": null,
            "grid_template_columns": null,
            "flex": null,
            "_model_name": "LayoutModel",
            "justify_items": null,
            "grid_row": null,
            "max_height": null,
            "align_content": null,
            "visibility": null,
            "align_self": null,
            "height": null,
            "min_height": null,
            "padding": null,
            "grid_auto_rows": null,
            "grid_gap": null,
            "max_width": null,
            "order": null,
            "_view_module_version": "1.2.0",
            "grid_template_areas": null,
            "object_position": null,
            "object_fit": null,
            "grid_auto_columns": null,
            "margin": null,
            "display": null,
            "left": null
          }
        },
        "ddb8465f92fc47bc837f04643cc38e6e": {
          "model_module": "@jupyter-widgets/controls",
          "model_name": "DescriptionStyleModel",
          "state": {
            "_view_name": "StyleView",
            "_model_name": "DescriptionStyleModel",
            "description_width": "",
            "_view_module": "@jupyter-widgets/base",
            "_model_module_version": "1.5.0",
            "_view_count": null,
            "_view_module_version": "1.2.0",
            "_model_module": "@jupyter-widgets/controls"
          }
        },
        "0aebd53e076948b7a526a2dd3aa0246e": {
          "model_module": "@jupyter-widgets/base",
          "model_name": "LayoutModel",
          "state": {
            "_view_name": "LayoutView",
            "grid_template_rows": null,
            "right": null,
            "justify_content": null,
            "_view_module": "@jupyter-widgets/base",
            "overflow": null,
            "_model_module_version": "1.2.0",
            "_view_count": null,
            "flex_flow": null,
            "width": null,
            "min_width": null,
            "border": null,
            "align_items": null,
            "bottom": null,
            "_model_module": "@jupyter-widgets/base",
            "top": null,
            "grid_column": null,
            "overflow_y": null,
            "overflow_x": null,
            "grid_auto_flow": null,
            "grid_area": null,
            "grid_template_columns": null,
            "flex": null,
            "_model_name": "LayoutModel",
            "justify_items": null,
            "grid_row": null,
            "max_height": null,
            "align_content": null,
            "visibility": null,
            "align_self": null,
            "height": null,
            "min_height": null,
            "padding": null,
            "grid_auto_rows": null,
            "grid_gap": null,
            "max_width": null,
            "order": null,
            "_view_module_version": "1.2.0",
            "grid_template_areas": null,
            "object_position": null,
            "object_fit": null,
            "grid_auto_columns": null,
            "margin": null,
            "display": null,
            "left": null
          }
        },
        "4d1c78c7a7e24e4d8532f3631ca3cb81": {
          "model_module": "@jupyter-widgets/controls",
          "model_name": "HBoxModel",
          "state": {
            "_view_name": "HBoxView",
            "_dom_classes": [],
            "_model_name": "HBoxModel",
            "_view_module": "@jupyter-widgets/controls",
            "_model_module_version": "1.5.0",
            "_view_count": null,
            "_view_module_version": "1.5.0",
            "box_style": "",
            "layout": "IPY_MODEL_dcdfeb9cf4f1411bab59e7cfd1cd6e08",
            "_model_module": "@jupyter-widgets/controls",
            "children": [
              "IPY_MODEL_785a4df17ca2497a9b81a43f39b9eb7a",
              "IPY_MODEL_42ae506aa7a14d09accd89888d1652a9"
            ]
          }
        },
        "dcdfeb9cf4f1411bab59e7cfd1cd6e08": {
          "model_module": "@jupyter-widgets/base",
          "model_name": "LayoutModel",
          "state": {
            "_view_name": "LayoutView",
            "grid_template_rows": null,
            "right": null,
            "justify_content": null,
            "_view_module": "@jupyter-widgets/base",
            "overflow": null,
            "_model_module_version": "1.2.0",
            "_view_count": null,
            "flex_flow": null,
            "width": null,
            "min_width": null,
            "border": null,
            "align_items": null,
            "bottom": null,
            "_model_module": "@jupyter-widgets/base",
            "top": null,
            "grid_column": null,
            "overflow_y": null,
            "overflow_x": null,
            "grid_auto_flow": null,
            "grid_area": null,
            "grid_template_columns": null,
            "flex": null,
            "_model_name": "LayoutModel",
            "justify_items": null,
            "grid_row": null,
            "max_height": null,
            "align_content": null,
            "visibility": null,
            "align_self": null,
            "height": null,
            "min_height": null,
            "padding": null,
            "grid_auto_rows": null,
            "grid_gap": null,
            "max_width": null,
            "order": null,
            "_view_module_version": "1.2.0",
            "grid_template_areas": null,
            "object_position": null,
            "object_fit": null,
            "grid_auto_columns": null,
            "margin": null,
            "display": null,
            "left": null
          }
        },
        "785a4df17ca2497a9b81a43f39b9eb7a": {
          "model_module": "@jupyter-widgets/controls",
          "model_name": "FloatProgressModel",
          "state": {
            "_view_name": "ProgressView",
            "style": "IPY_MODEL_444246af63894da0a117752dab8a806a",
            "_dom_classes": [],
            "description": "100%",
            "_model_name": "FloatProgressModel",
            "bar_style": "success",
            "max": 2482,
            "_view_module": "@jupyter-widgets/controls",
            "_model_module_version": "1.5.0",
            "value": 2482,
            "_view_count": null,
            "_view_module_version": "1.5.0",
            "orientation": "horizontal",
            "min": 0,
            "description_tooltip": null,
            "_model_module": "@jupyter-widgets/controls",
            "layout": "IPY_MODEL_fadc3fec056a4f128c7210ac4b4fd588"
          }
        },
        "42ae506aa7a14d09accd89888d1652a9": {
          "model_module": "@jupyter-widgets/controls",
          "model_name": "HTMLModel",
          "state": {
            "_view_name": "HTMLView",
            "style": "IPY_MODEL_60e6065ae68241ad98f914ff8e9b605b",
            "_dom_classes": [],
            "description": "",
            "_model_name": "HTMLModel",
            "placeholder": "​",
            "_view_module": "@jupyter-widgets/controls",
            "_model_module_version": "1.5.0",
            "value": " 2482/2482 [00:00&lt;00:00, 4248.05it/s]",
            "_view_count": null,
            "_view_module_version": "1.5.0",
            "description_tooltip": null,
            "_model_module": "@jupyter-widgets/controls",
            "layout": "IPY_MODEL_cb0de267080d46af90054a0c0f7e783b"
          }
        },
        "444246af63894da0a117752dab8a806a": {
          "model_module": "@jupyter-widgets/controls",
          "model_name": "ProgressStyleModel",
          "state": {
            "_view_name": "StyleView",
            "_model_name": "ProgressStyleModel",
            "description_width": "initial",
            "_view_module": "@jupyter-widgets/base",
            "_model_module_version": "1.5.0",
            "_view_count": null,
            "_view_module_version": "1.2.0",
            "bar_color": null,
            "_model_module": "@jupyter-widgets/controls"
          }
        },
        "fadc3fec056a4f128c7210ac4b4fd588": {
          "model_module": "@jupyter-widgets/base",
          "model_name": "LayoutModel",
          "state": {
            "_view_name": "LayoutView",
            "grid_template_rows": null,
            "right": null,
            "justify_content": null,
            "_view_module": "@jupyter-widgets/base",
            "overflow": null,
            "_model_module_version": "1.2.0",
            "_view_count": null,
            "flex_flow": null,
            "width": null,
            "min_width": null,
            "border": null,
            "align_items": null,
            "bottom": null,
            "_model_module": "@jupyter-widgets/base",
            "top": null,
            "grid_column": null,
            "overflow_y": null,
            "overflow_x": null,
            "grid_auto_flow": null,
            "grid_area": null,
            "grid_template_columns": null,
            "flex": null,
            "_model_name": "LayoutModel",
            "justify_items": null,
            "grid_row": null,
            "max_height": null,
            "align_content": null,
            "visibility": null,
            "align_self": null,
            "height": null,
            "min_height": null,
            "padding": null,
            "grid_auto_rows": null,
            "grid_gap": null,
            "max_width": null,
            "order": null,
            "_view_module_version": "1.2.0",
            "grid_template_areas": null,
            "object_position": null,
            "object_fit": null,
            "grid_auto_columns": null,
            "margin": null,
            "display": null,
            "left": null
          }
        },
        "60e6065ae68241ad98f914ff8e9b605b": {
          "model_module": "@jupyter-widgets/controls",
          "model_name": "DescriptionStyleModel",
          "state": {
            "_view_name": "StyleView",
            "_model_name": "DescriptionStyleModel",
            "description_width": "",
            "_view_module": "@jupyter-widgets/base",
            "_model_module_version": "1.5.0",
            "_view_count": null,
            "_view_module_version": "1.2.0",
            "_model_module": "@jupyter-widgets/controls"
          }
        },
        "cb0de267080d46af90054a0c0f7e783b": {
          "model_module": "@jupyter-widgets/base",
          "model_name": "LayoutModel",
          "state": {
            "_view_name": "LayoutView",
            "grid_template_rows": null,
            "right": null,
            "justify_content": null,
            "_view_module": "@jupyter-widgets/base",
            "overflow": null,
            "_model_module_version": "1.2.0",
            "_view_count": null,
            "flex_flow": null,
            "width": null,
            "min_width": null,
            "border": null,
            "align_items": null,
            "bottom": null,
            "_model_module": "@jupyter-widgets/base",
            "top": null,
            "grid_column": null,
            "overflow_y": null,
            "overflow_x": null,
            "grid_auto_flow": null,
            "grid_area": null,
            "grid_template_columns": null,
            "flex": null,
            "_model_name": "LayoutModel",
            "justify_items": null,
            "grid_row": null,
            "max_height": null,
            "align_content": null,
            "visibility": null,
            "align_self": null,
            "height": null,
            "min_height": null,
            "padding": null,
            "grid_auto_rows": null,
            "grid_gap": null,
            "max_width": null,
            "order": null,
            "_view_module_version": "1.2.0",
            "grid_template_areas": null,
            "object_position": null,
            "object_fit": null,
            "grid_auto_columns": null,
            "margin": null,
            "display": null,
            "left": null
          }
        }
      }
    }
  },
  "cells": [
    {
      "cell_type": "markdown",
      "metadata": {
        "id": "yuD9DwriiRIs"
      },
      "source": [
        "# Application: How Much Did it Rain? 2\n",
        "https://www.kaggle.com/c/how-much-did-it-rain-ii/data\n",
        "\n",
        "![image.png](attachment:image.png)\n",
        "\n",
        "This notebook has been edited by Hróbjartur Höskuldsson (KU ID: VDH406)"
      ]
    },
    {
      "cell_type": "markdown",
      "metadata": {
        "id": "kS0tDwWaiRJG"
      },
      "source": [
        "Input: polarimetric radar values\n",
        "\n",
        "Target: the hourly rain gauge total"
      ]
    },
    {
      "cell_type": "code",
      "metadata": {
        "id": "C5IiSHpyiRJK"
      },
      "source": [
        "# linear algebra\n",
        "import numpy as np \n",
        "# data processing\n",
        "import pandas as pd \n",
        "# io handling\n",
        "import os"
      ],
      "execution_count": 20,
      "outputs": []
    },
    {
      "cell_type": "code",
      "metadata": {
        "colab": {
          "base_uri": "https://localhost:8080/"
        },
        "id": "9gxjCTgcn7lm",
        "outputId": "0ecd8681-9590-4530-a151-350654bfe50d"
      },
      "source": [
        "from google.colab import drive\n",
        "drive.mount('/content/drive')"
      ],
      "execution_count": 21,
      "outputs": [
        {
          "output_type": "stream",
          "text": [
            "Mounted at /content/drive\n"
          ],
          "name": "stdout"
        }
      ]
    },
    {
      "cell_type": "markdown",
      "metadata": {
        "id": "QuH4BL6kiRJM"
      },
      "source": [
        "## 5. Create and train a recurrent Model"
      ]
    },
    {
      "cell_type": "markdown",
      "metadata": {
        "id": "_EW-ChidiRJN"
      },
      "source": [
        "#### Define Model"
      ]
    },
    {
      "cell_type": "code",
      "metadata": {
        "colab": {
          "base_uri": "https://localhost:8080/"
        },
        "id": "sO1xP8N6iRJN",
        "outputId": "87d63aa4-b721-4403-b354-c2cb5568c8d4"
      },
      "source": [
        "# make sure torch-summary is installed\n",
        "!pip install torch-summary"
      ],
      "execution_count": 22,
      "outputs": [
        {
          "output_type": "stream",
          "text": [
            "Requirement already satisfied: torch-summary in /usr/local/lib/python3.7/dist-packages (1.4.5)\n"
          ],
          "name": "stdout"
        }
      ]
    },
    {
      "cell_type": "code",
      "metadata": {
        "_uuid": "b33ee96e478c4412141264ed91615eb069f7008d",
        "id": "TtwY5Pv3iRJU"
      },
      "source": [
        "# import torch\n",
        "import torch\n",
        "import torch.nn as nn\n",
        "import torch.nn.functional as F\n",
        "import torch.optim as optim\n",
        "from torchsummary import summary"
      ],
      "execution_count": 23,
      "outputs": []
    },
    {
      "cell_type": "markdown",
      "metadata": {
        "id": "L0Culrcrlw5p"
      },
      "source": [
        "### Select the type of model\n",
        "\n",
        "*   Original model = \"LSTM\"\n",
        "*   Bidirectional model = \"LSTM_bi\"\n",
        "*   2 layer model = \"LSTM_2layer\"\n",
        "*   1-d convolution model = \"LSTM_conv\"\n",
        "*   All-in-one = \"LSTM_all\"\n",
        "\n"
      ]
    },
    {
      "cell_type": "code",
      "metadata": {
        "id": "JIsMjYWKlwP6"
      },
      "source": [
        "model_type = \"LSTM\"\n",
        "gradient_clipping = False\n",
        "clipping_threshold = 0.5"
      ],
      "execution_count": 35,
      "outputs": []
    },
    {
      "cell_type": "code",
      "metadata": {
        "id": "QPIur57qiRJW"
      },
      "source": [
        "if not os.path.exists('DsltUgfzAc'):\n",
        "    # windows:\n",
        "    if os.name == 'nt':\n",
        "        !python -m wget https://sid.erda.dk/share_redirect/DsltUgfzAc\n",
        "    # linux:\n",
        "    else:\n",
        "        !wget https://sid.erda.dk/share_redirect/DsltUgfzAc\n",
        "data_dict = torch.load(\"DsltUgfzAc\")\n",
        "X_train = data_dict[\"X_train\"]\n",
        "y_train = data_dict[\"y_train\"]\n",
        "sl_train = data_dict[\"sl_train\"]\n",
        "X_val = data_dict[\"X_val\"]\n",
        "y_val = data_dict[\"y_val\"]\n",
        "sl_val = data_dict[\"sl_val\"]\n",
        "_, series_length, dims = X_train.shape"
      ],
      "execution_count": 25,
      "outputs": []
    },
    {
      "cell_type": "code",
      "metadata": {
        "id": "WWPE0atbiRJY"
      },
      "source": [
        "device = \"cuda\" if torch.cuda.is_available() else \"cpu\""
      ],
      "execution_count": 26,
      "outputs": []
    },
    {
      "cell_type": "markdown",
      "metadata": {
        "id": "OWFvXwW9iRJZ"
      },
      "source": [
        "##### Fully Connected Model"
      ]
    },
    {
      "cell_type": "code",
      "metadata": {
        "id": "prJ-KZJYiRJa"
      },
      "source": [
        "\n",
        "class FCN(nn.Module):\n",
        "    def __init__(self, dims):\n",
        "        super().__init__()\n",
        "        self.model = nn.Sequential(\n",
        "            nn.Flatten(),\n",
        "            nn.Linear(dims * series_length, 64),\n",
        "            nn.Tanh(),\n",
        "            nn.Linear(64, 1),\n",
        "        )\n",
        "    \n",
        "    def forward(self, x, seq_len=None):\n",
        "        return self.model(x)"
      ],
      "execution_count": 27,
      "outputs": []
    },
    {
      "cell_type": "code",
      "metadata": {
        "colab": {
          "base_uri": "https://localhost:8080/"
        },
        "id": "FQqT7SZNiRJb",
        "outputId": "6fca551e-252a-4934-d685-c14d0923d2d0"
      },
      "source": [
        "model_fc = FCN(dims)\n",
        "fc_str = summary(model_fc, (series_length, dims))"
      ],
      "execution_count": 28,
      "outputs": [
        {
          "output_type": "stream",
          "text": [
            "==========================================================================================\n",
            "Layer (type:depth-idx)                   Output Shape              Param #\n",
            "==========================================================================================\n",
            "├─Sequential: 1-1                        [-1, 1]                   --\n",
            "|    └─Flatten: 2-1                      [-1, 418]                 --\n",
            "|    └─Linear: 2-2                       [-1, 64]                  26,816\n",
            "|    └─Tanh: 2-3                         [-1, 64]                  --\n",
            "|    └─Linear: 2-4                       [-1, 1]                   65\n",
            "==========================================================================================\n",
            "Total params: 26,881\n",
            "Trainable params: 26,881\n",
            "Non-trainable params: 0\n",
            "Total mult-adds (M): 0.05\n",
            "==========================================================================================\n",
            "Input size (MB): 0.00\n",
            "Forward/backward pass size (MB): 0.00\n",
            "Params size (MB): 0.10\n",
            "Estimated Total Size (MB): 0.10\n",
            "==========================================================================================\n"
          ],
          "name": "stdout"
        }
      ]
    },
    {
      "cell_type": "markdown",
      "metadata": {
        "id": "Un49XAVIiRJb"
      },
      "source": [
        "###### Recurrent Model"
      ]
    },
    {
      "cell_type": "code",
      "metadata": {
        "id": "kUDZm5w6iRJc"
      },
      "source": [
        "# Original model\n",
        "class LSTM(nn.Module):\n",
        "    def __init__(self, dims):\n",
        "        super().__init__()\n",
        "        self.rnn = nn.LSTM(dims, 64, batch_first=True)\n",
        "        self.out = nn.Linear(64, 1)\n",
        "        \n",
        "    def forward(self, x, seq_len=None):\n",
        "        if seq_len is None:\n",
        "            # ignore seq_len and process complete series\n",
        "            seq_len = [x.size(1)] * x.size(0)\n",
        "        \n",
        "        # pack the sequence for efficient computation\n",
        "        x_packed = nn.utils.rnn.pack_padded_sequence(\n",
        "            x, seq_len, batch_first=True, enforce_sorted=False\n",
        "        )\n",
        "\n",
        "        # apply the rnn to the packed sequence, no need to keep the hidden and cell state here\n",
        "        x, (h, c) = self.rnn(x_packed)\n",
        "        \n",
        "        out = h[-1] # get the last hidden state as an input to the final layer\n",
        "        return self.out(out)"
      ],
      "execution_count": 36,
      "outputs": []
    },
    {
      "cell_type": "code",
      "metadata": {
        "id": "y9zjBa_-gRfI"
      },
      "source": [
        "# Bi-directional model\n",
        "class LSTM_bi(nn.Module):\n",
        "    def __init__(self, dims):\n",
        "        super().__init__()\n",
        "        self.rnn = nn.LSTM(dims, 64, batch_first=True, bidirectional = True)\n",
        "        self.out = nn.Linear(64, 1)\n",
        "        \n",
        "    def forward(self, x, seq_len=None):\n",
        "        if seq_len is None:\n",
        "            # ignore seq_len and process complete series\n",
        "            seq_len = [x.size(1)] * x.size(0)\n",
        "        \n",
        "        # pack the sequence for efficient computation\n",
        "        x_packed = nn.utils.rnn.pack_padded_sequence(\n",
        "            x, seq_len, batch_first=True, enforce_sorted=False\n",
        "        )\n",
        "\n",
        "        # apply the rnn to the packed sequence, no need to keep the hidden and cell state here\n",
        "        x, (h, c) = self.rnn(x_packed)\n",
        "        \n",
        "        out = h[-1] # get the last hidden state as an input to the final layer\n",
        "        return self.out(out)"
      ],
      "execution_count": 37,
      "outputs": []
    },
    {
      "cell_type": "code",
      "metadata": {
        "id": "RRXoz8Uzga4W"
      },
      "source": [
        "# 2 layer stacked model\n",
        "class LSTM_2layer(nn.Module):\n",
        "    def __init__(self, dims):\n",
        "        super().__init__()\n",
        "        self.rnn = nn.LSTM(dims, 64, batch_first=True, num_layers = 2)\n",
        "        self.out = nn.Linear(64, 1)\n",
        "        \n",
        "    def forward(self, x, seq_len=None):\n",
        "        if seq_len is None:\n",
        "            # ignore seq_len and process complete series\n",
        "            seq_len = [x.size(1)] * x.size(0)\n",
        "        \n",
        "        # pack the sequence for efficient computation\n",
        "        x_packed = nn.utils.rnn.pack_padded_sequence(\n",
        "            x, seq_len, batch_first=True, enforce_sorted=False\n",
        "        )\n",
        "\n",
        "        # apply the rnn to the packed sequence, no need to keep the hidden and cell state here\n",
        "        x, (h, c) = self.rnn(x_packed)\n",
        "        \n",
        "        out = h[-1] # get the last hidden state as an input to the final layer\n",
        "        return self.out(out)"
      ],
      "execution_count": 38,
      "outputs": []
    },
    {
      "cell_type": "code",
      "metadata": {
        "id": "Cbb_LxGNgf1H"
      },
      "source": [
        "# 1-d convolutional model\n",
        "class LSTM_conv(nn.Module):\n",
        "    def __init__(self, dims):\n",
        "        super().__init__()\n",
        "        self.rnn = nn.LSTM(dims, 64, batch_first=True)\n",
        "        self.out = nn.Linear(64, 1)\n",
        "        self.conv1 = nn.Conv1d(dims, 64, 3)\n",
        "        \n",
        "    def forward(self, x, seq_len=None):\n",
        "        if seq_len is None:\n",
        "            # ignore seq_len and process complete series\n",
        "            seq_len = [x.size(1)] * x.size(0)\n",
        "        \n",
        "        # pack the sequence for efficient computation\n",
        "        x_packed = nn.utils.rnn.pack_padded_sequence(\n",
        "            x, seq_len, batch_first=True, enforce_sorted=False\n",
        "        )\n",
        "  \n",
        "        x = x.transpose(1, 2)\n",
        "        x = self.conv1(x)\n",
        "\n",
        "        # apply the rnn to the packed sequence, no need to keep the hidden and cell state here\n",
        "        x, (h, c) = self.rnn(x_packed)\n",
        "        \n",
        "        out = h[-1] # get the last hidden state as an input to the final layer\n",
        "        return self.out(out)"
      ],
      "execution_count": 39,
      "outputs": []
    },
    {
      "cell_type": "code",
      "metadata": {
        "id": "F1XGMl3umyxB"
      },
      "source": [
        "# All-in-one model\n",
        "class LSTM_all(nn.Module):\n",
        "    def __init__(self, dims):\n",
        "        super().__init__()\n",
        "        self.rnn = nn.LSTM(dims, 64, batch_first=True, num_layers = 2, bidirectional = True)\n",
        "        self.out = nn.Linear(64, 1)\n",
        "        self.conv1 = nn.Conv1d(dims, 64, 3)\n",
        "        \n",
        "    def forward(self, x, seq_len=None):\n",
        "        if seq_len is None:\n",
        "            # ignore seq_len and process complete series\n",
        "            seq_len = [x.size(1)] * x.size(0)\n",
        "        \n",
        "        # pack the sequence for efficient computation\n",
        "        x_packed = nn.utils.rnn.pack_padded_sequence(\n",
        "            x, seq_len, batch_first=True, enforce_sorted=False\n",
        "        )\n",
        "  \n",
        "        x = x.transpose(1, 2)\n",
        "        x = self.conv1(x)\n",
        "\n",
        "        # apply the rnn to the packed sequence, no need to keep the hidden and cell state here\n",
        "        x, (h, c) = self.rnn(x_packed)\n",
        "        \n",
        "        out = h[-1] # get the last hidden state as an input to the final layer\n",
        "        return self.out(out)"
      ],
      "execution_count": 40,
      "outputs": []
    },
    {
      "cell_type": "code",
      "metadata": {
        "_uuid": "c07de41ac64519ae7c90f619fe2fc277190ae531",
        "colab": {
          "base_uri": "https://localhost:8080/"
        },
        "id": "uS3uH2woiRJc",
        "outputId": "cc32e1f4-a86e-4337-f561-215d3caf543b"
      },
      "source": [
        "# recurrent model\n",
        "model = eval(model_type + \"(dims)\")\n",
        "rnn_str = summary(model, (series_length, dims))"
      ],
      "execution_count": 41,
      "outputs": [
        {
          "output_type": "stream",
          "text": [
            "==========================================================================================\n",
            "Layer (type:depth-idx)                   Output Shape              Param #\n",
            "==========================================================================================\n",
            "├─LSTM: 1-1                              [-1, 64]                  22,528\n",
            "├─Linear: 1-2                            [-1, 1]                   65\n",
            "==========================================================================================\n",
            "Total params: 22,593\n",
            "Trainable params: 22,593\n",
            "Non-trainable params: 0\n",
            "Total mult-adds (M): 0.02\n",
            "==========================================================================================\n",
            "Input size (MB): 0.00\n",
            "Forward/backward pass size (MB): 0.00\n",
            "Params size (MB): 0.09\n",
            "Estimated Total Size (MB): 0.09\n",
            "==========================================================================================\n"
          ],
          "name": "stdout"
        }
      ]
    },
    {
      "cell_type": "markdown",
      "metadata": {
        "id": "p0uiY8qxiRJd"
      },
      "source": [
        "#### Define Training Function"
      ]
    },
    {
      "cell_type": "code",
      "metadata": {
        "id": "Mxy2kFCfiRJd"
      },
      "source": [
        "from tqdm.auto import tqdm\n",
        "\n",
        "def fit(X_train, y_train, model, optimizer, batch_size=32, epochs=5, loss_fn=F.mse_loss):\n",
        "    n_iterations = len(X_train) // batch_size\n",
        "    X_train = torch.tensor(X_train).float()\n",
        "    y_train = torch.tensor(y_train).float()\n",
        "    \n",
        "    pbar = tqdm(total=n_iterations)\n",
        "    for epoch in range(epochs):\n",
        "        # shuffle iterator        \n",
        "        idx = torch.randperm(len(X_train))\n",
        "        for i in range(n_iterations):\n",
        "            optimizer.zero_grad()\n",
        "            \n",
        "            batch_idx = idx[i * batch_size: (i + 1) * batch_size]\n",
        "            X_batch = X_train[batch_idx].to(device)\n",
        "            y_batch = y_train[batch_idx].to(device)\n",
        "            y_pred = model(X_batch)\n",
        "            loss = loss_fn(y_batch, y_pred)\n",
        "            loss.backward()\n",
        "            if gradient_clipping:\n",
        "              nn.utils.clip_grad_norm(model.parameters(), clipping_threshold)\n",
        "            optimizer.step()\n",
        "            \n",
        "            # logging\n",
        "            if i % 10 == 0:\n",
        "                pbar.set_description_str(f\"Epoch {epoch + 1}/{epochs}\")\n",
        "                pbar.set_postfix_str(f\"loss: {loss.item():.4f}\")\n",
        "                pbar.update(10)\n",
        "        \n",
        "        pbar.refresh()\n",
        "        pbar.reset()\n",
        "    return model\n",
        "            \n",
        "            "
      ],
      "execution_count": 42,
      "outputs": []
    },
    {
      "cell_type": "markdown",
      "metadata": {
        "id": "dEf_xfqviRJe"
      },
      "source": [
        "#### Define Loss Function"
      ]
    },
    {
      "cell_type": "code",
      "metadata": {
        "id": "WooZDmUfiRJu"
      },
      "source": [
        "def mae(x, y):\n",
        "    return torch.abs(x - y).mean()"
      ],
      "execution_count": 43,
      "outputs": []
    },
    {
      "cell_type": "markdown",
      "metadata": {
        "id": "vrCWnjeAiRJu"
      },
      "source": [
        "### Train models"
      ]
    },
    {
      "cell_type": "code",
      "metadata": {
        "id": "2SEHMe2miRJw"
      },
      "source": [
        "n_epochs = 5"
      ],
      "execution_count": 44,
      "outputs": []
    },
    {
      "cell_type": "markdown",
      "metadata": {
        "id": "O8jNdJP6iRJw"
      },
      "source": [
        "#### Fully Connected Model"
      ]
    },
    {
      "cell_type": "code",
      "metadata": {
        "_uuid": "d2f7e5805f71bd720fcd845e07b6dce9ab685962",
        "scrolled": false,
        "colab": {
          "base_uri": "https://localhost:8080/",
          "height": 117,
          "referenced_widgets": [
            "963c417640b94c0b822fa116beb7f539",
            "271a62a24f8340f6acb85c805489dc3f",
            "376de64791ad4a318851bdaddf4d783a",
            "9c188246418341d2bf84ef760ef8fb6a",
            "1ded9a6b745b4f64a8541ed1ea3c4302",
            "596e60d5603c4241bbe150a1704e9de2",
            "1d4767de28074bbd89b5892b62acae88",
            "ec0cfb788afd4e35afda5ef5ff5bfcbc"
          ]
        },
        "id": "VdS-9o46iRJx",
        "outputId": "51a50255-8442-4243-c9ab-f70dc6854fd5"
      },
      "source": [
        "model.to(device)\n",
        "optimizer = optim.SGD(model.parameters(), lr=0.01, momentum=0.9, nesterov=True)\n",
        "fit(X_train, y_train, model, optimizer, batch_size=64, epochs=n_epochs, loss_fn=mae)"
      ],
      "execution_count": 45,
      "outputs": [
        {
          "output_type": "display_data",
          "data": {
            "application/vnd.jupyter.widget-view+json": {
              "model_id": "963c417640b94c0b822fa116beb7f539",
              "version_minor": 0,
              "version_major": 2
            },
            "text/plain": [
              "HBox(children=(FloatProgress(value=0.0, max=9925.0), HTML(value='')))"
            ]
          },
          "metadata": {
            "tags": []
          }
        },
        {
          "output_type": "execute_result",
          "data": {
            "text/plain": [
              "LSTM(\n",
              "  (rnn): LSTM(22, 64, batch_first=True)\n",
              "  (out): Linear(in_features=64, out_features=1, bias=True)\n",
              ")"
            ]
          },
          "metadata": {
            "tags": []
          },
          "execution_count": 45
        }
      ]
    },
    {
      "cell_type": "code",
      "metadata": {
        "_uuid": "d2f7e5805f71bd720fcd845e07b6dce9ab685962",
        "scrolled": false,
        "colab": {
          "base_uri": "https://localhost:8080/",
          "height": 185,
          "referenced_widgets": [
            "6ea26f80b31c4dfcbde6b599f4dd5e04",
            "e03e7d8533724152887410752d1c8126",
            "58fd8d2dc5994b8f93e7e105dd3dc7f2",
            "47c1dde1bbda44cbb338aac67d3fa3b7",
            "a981c137fafc4fdda3d81282217d4ccb",
            "ff49cd0794034ae9b79f7ea754209d7c",
            "536223ecfeba43f7bd1571686e8b2ac6",
            "40e5d0381a8047bb965319428b2d0915"
          ]
        },
        "id": "saOI5Ph_pk6b",
        "outputId": "9201e435-b194-4c7d-8a1f-2cd650080a9b"
      },
      "source": [
        "model_fc.to(device)\n",
        "optimizer_fc = optim.SGD(model_fc.parameters(), lr=0.01, momentum=0.9, nesterov=True)\n",
        "fit(X_train, y_train, model_fc, optimizer_fc, batch_size=64, epochs=n_epochs, loss_fn=mae)"
      ],
      "execution_count": 46,
      "outputs": [
        {
          "output_type": "display_data",
          "data": {
            "application/vnd.jupyter.widget-view+json": {
              "model_id": "6ea26f80b31c4dfcbde6b599f4dd5e04",
              "version_minor": 0,
              "version_major": 2
            },
            "text/plain": [
              "HBox(children=(FloatProgress(value=0.0, max=9925.0), HTML(value='')))"
            ]
          },
          "metadata": {
            "tags": []
          }
        },
        {
          "output_type": "execute_result",
          "data": {
            "text/plain": [
              "FCN(\n",
              "  (model): Sequential(\n",
              "    (0): Flatten(start_dim=1, end_dim=-1)\n",
              "    (1): Linear(in_features=418, out_features=64, bias=True)\n",
              "    (2): Tanh()\n",
              "    (3): Linear(in_features=64, out_features=1, bias=True)\n",
              "  )\n",
              ")"
            ]
          },
          "metadata": {
            "tags": []
          },
          "execution_count": 46
        }
      ]
    },
    {
      "cell_type": "markdown",
      "metadata": {
        "id": "xb5NzXDQzcDv"
      },
      "source": [
        "### Save the model"
      ]
    },
    {
      "cell_type": "code",
      "metadata": {
        "id": "KljlWxJwzarT"
      },
      "source": [
        "torch.save(model, \"/content/drive/MyDrive/Colab Notebooks/AI_A2/model.pt\")"
      ],
      "execution_count": 48,
      "outputs": []
    },
    {
      "cell_type": "markdown",
      "metadata": {
        "id": "v-2RgMuoiRJz"
      },
      "source": [
        "## Evaluate Models"
      ]
    },
    {
      "cell_type": "markdown",
      "metadata": {
        "id": "xDwYR2sJiRJz"
      },
      "source": [
        "#### Define Prediction Function"
      ]
    },
    {
      "cell_type": "code",
      "metadata": {
        "id": "epsRMJXKiRJ0"
      },
      "source": [
        "def predict(X, model, batch_size=32):\n",
        "    n_iterations = len(X) // batch_size\n",
        "    X = torch.tensor(X).float()\n",
        "    idx = torch.arange(len(X))\n",
        "    \n",
        "    with torch.no_grad():\n",
        "        y_pred = []\n",
        "        for i in tqdm(range(n_iterations + 1)):\n",
        "            batch_idx = idx[i * batch_size: (i + 1) * batch_size]\n",
        "            X_batch = X[batch_idx].to(device)\n",
        "            y_pred.append(model(X_batch))\n",
        "\n",
        "    y_pred = torch.cat(y_pred, 0)\n",
        "    return y_pred.cpu().numpy()"
      ],
      "execution_count": 47,
      "outputs": []
    },
    {
      "cell_type": "code",
      "metadata": {
        "colab": {
          "base_uri": "https://localhost:8080/",
          "height": 115,
          "referenced_widgets": [
            "fa85f636cdc54119b99510d4cc69a365",
            "c4b552fcdecc46ccbbb880cc18e5dd22",
            "ea7235cc726143fda526d18cfa7a789e",
            "a54fdde138f2408789d6509d748c3634",
            "f2d4293c86ae4292b15ee786cc3f9f09",
            "1e8eec8f8103426d83eae5ca12e75188",
            "ddb8465f92fc47bc837f04643cc38e6e",
            "0aebd53e076948b7a526a2dd3aa0246e",
            "4d1c78c7a7e24e4d8532f3631ca3cb81",
            "dcdfeb9cf4f1411bab59e7cfd1cd6e08",
            "785a4df17ca2497a9b81a43f39b9eb7a",
            "42ae506aa7a14d09accd89888d1652a9",
            "444246af63894da0a117752dab8a806a",
            "fadc3fec056a4f128c7210ac4b4fd588",
            "60e6065ae68241ad98f914ff8e9b605b",
            "cb0de267080d46af90054a0c0f7e783b"
          ]
        },
        "id": "uKlLkkmliRJ1",
        "outputId": "3cc08fc7-a4db-4405-8a81-5f6c5916fc21"
      },
      "source": [
        "model = torch.load(\"/content/drive/MyDrive/Colab Notebooks/AI_A2/model.pt\")\n",
        "val_preds = predict(X_val, model, batch_size=64)\n",
        "val_preds_fc = predict(X_val, model_fc, batch_size=64)"
      ],
      "execution_count": 49,
      "outputs": [
        {
          "output_type": "display_data",
          "data": {
            "application/vnd.jupyter.widget-view+json": {
              "model_id": "fa85f636cdc54119b99510d4cc69a365",
              "version_minor": 0,
              "version_major": 2
            },
            "text/plain": [
              "HBox(children=(FloatProgress(value=0.0, max=2482.0), HTML(value='')))"
            ]
          },
          "metadata": {
            "tags": []
          }
        },
        {
          "output_type": "stream",
          "text": [
            "\n"
          ],
          "name": "stdout"
        },
        {
          "output_type": "display_data",
          "data": {
            "application/vnd.jupyter.widget-view+json": {
              "model_id": "4d1c78c7a7e24e4d8532f3631ca3cb81",
              "version_minor": 0,
              "version_major": 2
            },
            "text/plain": [
              "HBox(children=(FloatProgress(value=0.0, max=2482.0), HTML(value='')))"
            ]
          },
          "metadata": {
            "tags": []
          }
        },
        {
          "output_type": "stream",
          "text": [
            "\n"
          ],
          "name": "stdout"
        }
      ]
    },
    {
      "cell_type": "code",
      "metadata": {
        "colab": {
          "base_uri": "https://localhost:8080/"
        },
        "id": "0Al8Z-aNWZBq",
        "outputId": "d2b8e7fb-73fd-4243-d2cf-e69b33dd1ac7"
      },
      "source": [
        "absolute_error_fc = abs(y_val - val_preds_fc).flatten()\n",
        "absolute_error = abs(y_val - val_preds).flatten()\n",
        "print(np.mean(absolute_error_fc))\n",
        "print(np.mean(absolute_error))"
      ],
      "execution_count": 50,
      "outputs": [
        {
          "output_type": "stream",
          "text": [
            "2.0527886672525684\n",
            "1.9459202774184539\n"
          ],
          "name": "stdout"
        }
      ]
    },
    {
      "cell_type": "code",
      "metadata": {
        "id": "ZxNNOBnYiRJ5"
      },
      "source": [
        "errors = pd.DataFrame(\n",
        "    np.stack((absolute_error_fc, absolute_error), 1), \n",
        "    columns=[\"fully_connected\", \"new model\"]\n",
        ")"
      ],
      "execution_count": 51,
      "outputs": []
    },
    {
      "cell_type": "code",
      "metadata": {
        "colab": {
          "base_uri": "https://localhost:8080/",
          "height": 297
        },
        "id": "v4pkvyFkWkV2",
        "outputId": "e464b667-2690-4474-e004-2c8b066d0297"
      },
      "source": [
        "errors.describe()"
      ],
      "execution_count": 52,
      "outputs": [
        {
          "output_type": "execute_result",
          "data": {
            "text/html": [
              "<div>\n",
              "<style scoped>\n",
              "    .dataframe tbody tr th:only-of-type {\n",
              "        vertical-align: middle;\n",
              "    }\n",
              "\n",
              "    .dataframe tbody tr th {\n",
              "        vertical-align: top;\n",
              "    }\n",
              "\n",
              "    .dataframe thead th {\n",
              "        text-align: right;\n",
              "    }\n",
              "</style>\n",
              "<table border=\"1\" class=\"dataframe\">\n",
              "  <thead>\n",
              "    <tr style=\"text-align: right;\">\n",
              "      <th></th>\n",
              "      <th>fully_connected</th>\n",
              "      <th>new model</th>\n",
              "    </tr>\n",
              "  </thead>\n",
              "  <tbody>\n",
              "    <tr>\n",
              "      <th>count</th>\n",
              "      <td>158811.000000</td>\n",
              "      <td>158811.000000</td>\n",
              "    </tr>\n",
              "    <tr>\n",
              "      <th>mean</th>\n",
              "      <td>2.052789</td>\n",
              "      <td>1.945920</td>\n",
              "    </tr>\n",
              "    <tr>\n",
              "      <th>std</th>\n",
              "      <td>3.873537</td>\n",
              "      <td>3.718744</td>\n",
              "    </tr>\n",
              "    <tr>\n",
              "      <th>min</th>\n",
              "      <td>0.000012</td>\n",
              "      <td>0.000005</td>\n",
              "    </tr>\n",
              "    <tr>\n",
              "      <th>25%</th>\n",
              "      <td>0.303470</td>\n",
              "      <td>0.237078</td>\n",
              "    </tr>\n",
              "    <tr>\n",
              "      <th>50%</th>\n",
              "      <td>0.737794</td>\n",
              "      <td>0.689527</td>\n",
              "    </tr>\n",
              "    <tr>\n",
              "      <th>75%</th>\n",
              "      <td>1.901156</td>\n",
              "      <td>1.875194</td>\n",
              "    </tr>\n",
              "    <tr>\n",
              "      <th>max</th>\n",
              "      <td>36.495666</td>\n",
              "      <td>36.956431</td>\n",
              "    </tr>\n",
              "  </tbody>\n",
              "</table>\n",
              "</div>"
            ],
            "text/plain": [
              "       fully_connected      new model\n",
              "count    158811.000000  158811.000000\n",
              "mean          2.052789       1.945920\n",
              "std           3.873537       3.718744\n",
              "min           0.000012       0.000005\n",
              "25%           0.303470       0.237078\n",
              "50%           0.737794       0.689527\n",
              "75%           1.901156       1.875194\n",
              "max          36.495666      36.956431"
            ]
          },
          "metadata": {
            "tags": []
          },
          "execution_count": 52
        }
      ]
    },
    {
      "cell_type": "code",
      "metadata": {
        "colab": {
          "base_uri": "https://localhost:8080/",
          "height": 297
        },
        "id": "pjXo723siRJ6",
        "outputId": "3b6bba70-684f-4543-cbe4-04f8ea090709"
      },
      "source": [
        ""
      ],
      "execution_count": 210,
      "outputs": [
        {
          "output_type": "execute_result",
          "data": {
            "text/html": [
              "<div>\n",
              "<style scoped>\n",
              "    .dataframe tbody tr th:only-of-type {\n",
              "        vertical-align: middle;\n",
              "    }\n",
              "\n",
              "    .dataframe tbody tr th {\n",
              "        vertical-align: top;\n",
              "    }\n",
              "\n",
              "    .dataframe thead th {\n",
              "        text-align: right;\n",
              "    }\n",
              "</style>\n",
              "<table border=\"1\" class=\"dataframe\">\n",
              "  <thead>\n",
              "    <tr style=\"text-align: right;\">\n",
              "      <th></th>\n",
              "      <th>fully_connected</th>\n",
              "      <th>rnn</th>\n",
              "      <th>bidirectional</th>\n",
              "      <th>2-layers</th>\n",
              "      <th>conv1d</th>\n",
              "      <th>clipping</th>\n",
              "      <th>clipping2</th>\n",
              "    </tr>\n",
              "  </thead>\n",
              "  <tbody>\n",
              "    <tr>\n",
              "      <th>count</th>\n",
              "      <td>158811.000000</td>\n",
              "      <td>158811.000000</td>\n",
              "      <td>158811.000000</td>\n",
              "      <td>158811.000000</td>\n",
              "      <td>158811.000000</td>\n",
              "      <td>158811.000000</td>\n",
              "      <td>1.588110e+05</td>\n",
              "    </tr>\n",
              "    <tr>\n",
              "      <th>mean</th>\n",
              "      <td>2.050570</td>\n",
              "      <td>1.952269</td>\n",
              "      <td>1.960768</td>\n",
              "      <td>1.962950</td>\n",
              "      <td>1.941518</td>\n",
              "      <td>1.953154</td>\n",
              "      <td>1.963894e+00</td>\n",
              "    </tr>\n",
              "    <tr>\n",
              "      <th>std</th>\n",
              "      <td>3.934394</td>\n",
              "      <td>3.751223</td>\n",
              "      <td>3.726526</td>\n",
              "      <td>3.656548</td>\n",
              "      <td>3.742184</td>\n",
              "      <td>3.770596</td>\n",
              "      <td>3.831893e+00</td>\n",
              "    </tr>\n",
              "    <tr>\n",
              "      <th>min</th>\n",
              "      <td>0.000005</td>\n",
              "      <td>0.000025</td>\n",
              "      <td>0.000014</td>\n",
              "      <td>0.000017</td>\n",
              "      <td>0.000009</td>\n",
              "      <td>0.000011</td>\n",
              "      <td>5.960464e-08</td>\n",
              "    </tr>\n",
              "    <tr>\n",
              "      <th>25%</th>\n",
              "      <td>0.235434</td>\n",
              "      <td>0.255247</td>\n",
              "      <td>0.229650</td>\n",
              "      <td>0.254368</td>\n",
              "      <td>0.237938</td>\n",
              "      <td>0.220704</td>\n",
              "      <td>2.085824e-01</td>\n",
              "    </tr>\n",
              "    <tr>\n",
              "      <th>50%</th>\n",
              "      <td>0.683711</td>\n",
              "      <td>0.677375</td>\n",
              "      <td>0.669201</td>\n",
              "      <td>0.712593</td>\n",
              "      <td>0.643864</td>\n",
              "      <td>0.640949</td>\n",
              "      <td>6.383122e-01</td>\n",
              "    </tr>\n",
              "    <tr>\n",
              "      <th>75%</th>\n",
              "      <td>1.946392</td>\n",
              "      <td>1.821752</td>\n",
              "      <td>1.916545</td>\n",
              "      <td>1.959368</td>\n",
              "      <td>1.849658</td>\n",
              "      <td>1.859775</td>\n",
              "      <td>1.859000e+00</td>\n",
              "    </tr>\n",
              "    <tr>\n",
              "      <th>max</th>\n",
              "      <td>36.788760</td>\n",
              "      <td>36.787056</td>\n",
              "      <td>36.864229</td>\n",
              "      <td>36.801545</td>\n",
              "      <td>36.778338</td>\n",
              "      <td>36.715905</td>\n",
              "      <td>3.718522e+01</td>\n",
              "    </tr>\n",
              "  </tbody>\n",
              "</table>\n",
              "</div>"
            ],
            "text/plain": [
              "       fully_connected            rnn  ...       clipping     clipping2\n",
              "count    158811.000000  158811.000000  ...  158811.000000  1.588110e+05\n",
              "mean          2.050570       1.952269  ...       1.953154  1.963894e+00\n",
              "std           3.934394       3.751223  ...       3.770596  3.831893e+00\n",
              "min           0.000005       0.000025  ...       0.000011  5.960464e-08\n",
              "25%           0.235434       0.255247  ...       0.220704  2.085824e-01\n",
              "50%           0.683711       0.677375  ...       0.640949  6.383122e-01\n",
              "75%           1.946392       1.821752  ...       1.859775  1.859000e+00\n",
              "max          36.788760      36.787056  ...      36.715905  3.718522e+01\n",
              "\n",
              "[8 rows x 7 columns]"
            ]
          },
          "metadata": {
            "tags": []
          },
          "execution_count": 210
        }
      ]
    },
    {
      "cell_type": "markdown",
      "metadata": {
        "id": "5oxBQqM8iRJ6"
      },
      "source": [
        "More things to try:\n",
        "* more layers (stacked LSTM)\n",
        "* filtering the signal first via 1d convultion\n",
        "* different optimizer"
      ]
    },
    {
      "cell_type": "code",
      "metadata": {
        "id": "V7ike965uEp3"
      },
      "source": [
        ""
      ],
      "execution_count": null,
      "outputs": []
    }
  ]
}